{
 "cells": [
  {
   "cell_type": "markdown",
   "metadata": {},
   "source": [
    "# Training Notebook\n",
    "\n",
    "###  NOTE: Please run on Python 2.7!!\n",
    "\n",
    "Pull labeled sensor data from the server, train a classification model on it, and export to Core ML."
   ]
  },
  {
   "cell_type": "code",
   "execution_count": 1,
   "metadata": {},
   "outputs": [
    {
     "name": "stderr",
     "output_type": "stream",
     "text": [
      "/anaconda3/envs/py27/lib/python2.7/site-packages/h5py/__init__.py:36: FutureWarning: Conversion of the second argument of issubdtype from `float` to `np.floating` is deprecated. In future, it will be treated as `np.float64 == np.dtype(float).type`.\n",
      "  from ._conv import register_converters as _register_converters\n"
     ]
    }
   ],
   "source": [
    "import numpy as np\n",
    "import pandas as pd\n",
    "import turicreate as tc"
   ]
  },
  {
   "cell_type": "markdown",
   "metadata": {},
   "source": [
    "### Constants"
   ]
  },
  {
   "cell_type": "code",
   "execution_count": 21,
   "metadata": {},
   "outputs": [],
   "source": [
    "FEATURES = ['AccelerationX', 'AccelerationY', 'AccelerationZ']\n",
    "ACTIVITIES = ['activity1', 'activity2']\n",
    "WINDOW_SIZE = 100\n",
    "N = 10000\n",
    "SESSION_SIZE = 1000\n",
    "LABEL = 'Label'\n",
    "SESSION = 'Session'\n",
    "\n",
    "MU = 0\n",
    "SIGMA = 5\n",
    "np.random.seed(0)"
   ]
  },
  {
   "cell_type": "code",
   "execution_count": 22,
   "metadata": {},
   "outputs": [],
   "source": [
    "# Method for generating ground truth prediction, given features.\n",
    "def get_prediction(df):\n",
    "    avg = np.mean(np.array(df, dtype = float))\n",
    "    if avg > 0:\n",
    "        return ACTIVITIES[0]\n",
    "    else:\n",
    "        return ACTIVITIES[1]"
   ]
  },
  {
   "cell_type": "markdown",
   "metadata": {},
   "source": [
    "### Step 1: Generate synthetic sensor data\n",
    "Labels are stored as strings (such as 'activity1', 'activity2', etc.)"
   ]
  },
  {
   "cell_type": "code",
   "execution_count": 23,
   "metadata": {},
   "outputs": [],
   "source": [
    "# Generate random feature data\n",
    "df = pd.DataFrame()\n",
    "for feature in FEATURES:\n",
    "    df[feature] = np.random.normal(loc=MU,scale=SIGMA,size=N)\n",
    "\n",
    "# Set blank session and labels.\n",
    "df[LABEL] = [ACTIVITIES[0]]*N\n",
    "df[SESSION] = [0]*N"
   ]
  },
  {
   "cell_type": "code",
   "execution_count": 30,
   "metadata": {},
   "outputs": [],
   "source": [
    "# Set the actual session values.\n",
    "for s in range(N/SESSION_SIZE):\n",
    "    s_start = s*SESSION_SIZE\n",
    "    s_end = (s+1)*SESSION_SIZE\n",
    "    df.loc[s_start:s_end, SESSION] = s\n",
    "\n",
    "# Set the actual activity class labels\n",
    "for w in range(N/WINDOW_SIZE):\n",
    "    w_start = w*WINDOW_SIZE\n",
    "    w_end = (w+1)*WINDOW_SIZE\n",
    "    \n",
    "    indicator = np.random.uniform(size=1)[0] > 0.5\n",
    "    if indicator:\n",
    "        df.loc[w_start:w_end, FEATURES] += 1.5\n",
    "    else:\n",
    "        df.loc[w_start:w_end, FEATURES] -= 1.5\n",
    "\n",
    "    df.loc[w_start:w_end, LABEL] = get_prediction(df.loc[w_start:w_end, FEATURES])"
   ]
  },
  {
   "cell_type": "markdown",
   "metadata": {},
   "source": [
    "### Step 2: Export sample data for in-app testing\n",
    "\n",
    "### Note: You will have to drag this csv into the Xcode Project to update the sample data"
   ]
  },
  {
   "cell_type": "code",
   "execution_count": 31,
   "metadata": {},
   "outputs": [],
   "source": [
    "df.loc[:999,:].to_csv(\"sample_data.csv\")"
   ]
  },
  {
   "cell_type": "markdown",
   "metadata": {},
   "source": [
    "## Run the model"
   ]
  },
  {
   "cell_type": "markdown",
   "metadata": {},
   "source": [
    "### Step 1: Split data into train and test sets"
   ]
  },
  {
   "cell_type": "code",
   "execution_count": 32,
   "metadata": {},
   "outputs": [],
   "source": [
    "data_tc = tc.SFrame(df)"
   ]
  },
  {
   "cell_type": "code",
   "execution_count": 33,
   "metadata": {},
   "outputs": [],
   "source": [
    "seed = 120\n",
    "train, valid = tc.activity_classifier.util.random_split_by_session(data_tc, session_id = SESSION, \n",
    "                                                                  fraction = 0.8, seed = seed)"
   ]
  },
  {
   "cell_type": "markdown",
   "metadata": {},
   "source": [
    "### Step 2: Build the model using turicreate"
   ]
  },
  {
   "cell_type": "code",
   "execution_count": 34,
   "metadata": {},
   "outputs": [
    {
     "data": {
      "text/html": [
       "<pre>Pre-processing 8000 samples...</pre>"
      ],
      "text/plain": [
       "Pre-processing 8000 samples..."
      ]
     },
     "metadata": {},
     "output_type": "display_data"
    },
    {
     "data": {
      "text/html": [
       "<pre>Using sequences of size 2000 for model creation.</pre>"
      ],
      "text/plain": [
       "Using sequences of size 2000 for model creation."
      ]
     },
     "metadata": {},
     "output_type": "display_data"
    },
    {
     "data": {
      "text/html": [
       "<pre>Processed a total of 8 sessions.</pre>"
      ],
      "text/plain": [
       "Processed a total of 8 sessions."
      ]
     },
     "metadata": {},
     "output_type": "display_data"
    },
    {
     "name": "stdout",
     "output_type": "stream",
     "text": [
      "Using GPU to create model (AMD Radeon Pro 460)\n",
      "+---------------------+---------------------+---------------------+---------------------+---------------------+---------------------+\n",
      "| Iteration           | Train Accuracy      | Train Loss          | Validation Accuracy | Validation Loss     | Elapsed Time        |\n",
      "+---------------------+---------------------+---------------------+---------------------+---------------------+---------------------+\n",
      "| 1                   | 0.587               | 1.026               | 0.850               | 0.298               | 0.1                 | \n",
      "| 2                   | 0.775               | 0.410               | 0.900               | 0.254               | 0.2                 | \n",
      "| 3                   | 0.762               | 0.387               | 0.900               | 0.233               | 0.3                 | \n",
      "| 4                   | 0.850               | 0.170               | 0.900               | 0.220               | 0.4                 | \n",
      "| 5                   | 0.850               | 0.250               | 0.900               | 0.205               | 0.5                 | \n",
      "| 6                   | 0.900               | 0.122               | 0.900               | 0.191               | 0.6                 | \n",
      "| 7                   | 0.912               | 0.116               | 0.900               | 0.176               | 0.7                 | \n",
      "| 8                   | 0.937               | 0.084               | 0.900               | 0.162               | 0.8                 | \n",
      "| 9                   | 1.000               | 0.015               | 0.900               | 0.147               | 0.9                 | \n",
      "| 10                  | 0.950               | 0.052               | 0.950               | 0.134               | 1.0                 | \n",
      "+---------------------+---------------------+---------------------+---------------------+---------------------+---------------------+\n",
      "Training complete\n",
      "Total Time Spent: 0.954096s\n"
     ]
    }
   ],
   "source": [
    "model_100 = tc.activity_classifier.create(train, session_id = SESSION, target = LABEL, \n",
    "                                          features = FEATURES,  prediction_window = WINDOW_SIZE, \n",
    "                                          validation_set = valid)"
   ]
  },
  {
   "cell_type": "markdown",
   "metadata": {},
   "source": [
    "### Step 3: Export in Core ML format\n",
    "\n",
    "### Note: You will have to drag this mlmodel into the Xcode Project to update the model"
   ]
  },
  {
   "cell_type": "code",
   "execution_count": 35,
   "metadata": {},
   "outputs": [],
   "source": [
    "filename = 'ActivityClassifier'\n",
    "model_100.name = 'Activity Classifier'\n",
    "model_100.export_coreml(filename + '.mlmodel')\n",
    "model_100.save(filename)"
   ]
  }
 ],
 "metadata": {
  "kernelspec": {
   "display_name": "Python 2",
   "language": "python",
   "name": "python2"
  },
  "language_info": {
   "codemirror_mode": {
    "name": "ipython",
    "version": 2
   },
   "file_extension": ".py",
   "mimetype": "text/x-python",
   "name": "python",
   "nbconvert_exporter": "python",
   "pygments_lexer": "ipython2",
   "version": "2.7.14"
  }
 },
 "nbformat": 4,
 "nbformat_minor": 2
}
